{
 "cells": [
  {
   "cell_type": "markdown",
   "metadata": {
    "toc": true
   },
   "source": [
    "<h1>Table of Contents<span class=\"tocSkip\"></span></h1>\n",
    "<div class=\"toc\"><ul class=\"toc-item\"><li><span><a href=\"#Question-1-:-The-$T=1$-case\" data-toc-modified-id=\"Question-1-:-The-$T=1$-case-1\"><span class=\"toc-item-num\">1&nbsp;&nbsp;</span>Question 1 : The $T=1$ case</a></span><ul class=\"toc-item\"><li><span><a href=\"#Question-1.1-:-Recognizing-a-known-problem\" data-toc-modified-id=\"Question-1.1-:-Recognizing-a-known-problem-1.1\"><span class=\"toc-item-num\">1.1&nbsp;&nbsp;</span>Question 1.1 : Recognizing a known problem</a></span></li><li><span><a href=\"#Question-1.2-:-Solving-the-problem\" data-toc-modified-id=\"Question-1.2-:-Solving-the-problem-1.2\"><span class=\"toc-item-num\">1.2&nbsp;&nbsp;</span>Question 1.2 : Solving the problem</a></span></li></ul></li><li><span><a href=\"#Question-2-The-$T=2$-case\" data-toc-modified-id=\"Question-2-The-$T=2$-case-2\"><span class=\"toc-item-num\">2&nbsp;&nbsp;</span>Question 2 The $T=2$ case</a></span><ul class=\"toc-item\"><li><span><a href=\"#Question-2.1\" data-toc-modified-id=\"Question-2.1-2.1\"><span class=\"toc-item-num\">2.1&nbsp;&nbsp;</span>Question 2.1</a></span></li><li><span><a href=\"#Question-2.2-:-upper-bound\" data-toc-modified-id=\"Question-2.2-:-upper-bound-2.2\"><span class=\"toc-item-num\">2.2&nbsp;&nbsp;</span>Question 2.2 : upper bound</a></span></li><li><span><a href=\"#Question-2.3-:-Splitted-variables-formulation\" data-toc-modified-id=\"Question-2.3-:-Splitted-variables-formulation-2.3\"><span class=\"toc-item-num\">2.3&nbsp;&nbsp;</span>Question 2.3 : Splitted variables formulation</a></span></li><li><span><a href=\"#Question-2.4-:-anticipative-bound\" data-toc-modified-id=\"Question-2.4-:-anticipative-bound-2.4\"><span class=\"toc-item-num\">2.4&nbsp;&nbsp;</span>Question 2.4 : anticipative bound</a></span></li><li><span><a href=\"#Question-2.5-:-two-stage-bound\" data-toc-modified-id=\"Question-2.5-:-two-stage-bound-2.5\"><span class=\"toc-item-num\">2.5&nbsp;&nbsp;</span>Question 2.5 : two-stage bound</a></span></li></ul></li><li><span><a href=\"#Question-3-:-Heuristics-and-bounds-in-long-horizon\" data-toc-modified-id=\"Question-3-:-Heuristics-and-bounds-in-long-horizon-3\"><span class=\"toc-item-num\">3&nbsp;&nbsp;</span>Question 3 : Heuristics and bounds in long horizon</a></span><ul class=\"toc-item\"><li><span><a href=\"#Question-3.1\" data-toc-modified-id=\"Question-3.1-3.1\"><span class=\"toc-item-num\">3.1&nbsp;&nbsp;</span>Question 3.1</a></span></li><li><span><a href=\"#Question-3.2-:-anticipative-bound\" data-toc-modified-id=\"Question-3.2-:-anticipative-bound-3.2\"><span class=\"toc-item-num\">3.2&nbsp;&nbsp;</span>Question 3.2 : anticipative bound</a></span></li><li><span><a href=\"#Question-3.3-Writing-a-simulator\" data-toc-modified-id=\"Question-3.3-Writing-a-simulator-3.3\"><span class=\"toc-item-num\">3.3&nbsp;&nbsp;</span>Question 3.3 Writing a simulator</a></span></li><li><span><a href=\"#Question-3.4\" data-toc-modified-id=\"Question-3.4-3.4\"><span class=\"toc-item-num\">3.4&nbsp;&nbsp;</span>Question 3.4</a></span></li><li><span><a href=\"#Question-3.5\" data-toc-modified-id=\"Question-3.5-3.5\"><span class=\"toc-item-num\">3.5&nbsp;&nbsp;</span>Question 3.5</a></span></li><li><span><a href=\"#Question-3.6\" data-toc-modified-id=\"Question-3.6-3.6\"><span class=\"toc-item-num\">3.6&nbsp;&nbsp;</span>Question 3.6</a></span></li><li><span><a href=\"#Question-3.7-(Optional)\" data-toc-modified-id=\"Question-3.7-(Optional)-3.7\"><span class=\"toc-item-num\">3.7&nbsp;&nbsp;</span>Question 3.7 (Optional)</a></span></li></ul></li><li><span><a href=\"#Question-4-Dynamic-Programming\" data-toc-modified-id=\"Question-4-Dynamic-Programming-4\"><span class=\"toc-item-num\">4&nbsp;&nbsp;</span>Question 4 Dynamic Programming</a></span><ul class=\"toc-item\"><li><span><a href=\"#Question-4.1-:-integrity-of-stock\" data-toc-modified-id=\"Question-4.1-:-integrity-of-stock-4.1\"><span class=\"toc-item-num\">4.1&nbsp;&nbsp;</span>Question 4.1 : integrity of stock</a></span></li><li><span><a href=\"#Question-4.2\" data-toc-modified-id=\"Question-4.2-4.2\"><span class=\"toc-item-num\">4.2&nbsp;&nbsp;</span>Question 4.2</a></span></li><li><span><a href=\"#Question-4.3\" data-toc-modified-id=\"Question-4.3-4.3\"><span class=\"toc-item-num\">4.3&nbsp;&nbsp;</span>Question 4.3</a></span></li><li><span><a href=\"#Question-4.4\" data-toc-modified-id=\"Question-4.4-4.4\"><span class=\"toc-item-num\">4.4&nbsp;&nbsp;</span>Question 4.4</a></span></li></ul></li></ul></div>"
   ]
  },
  {
   "cell_type": "markdown",
   "metadata": {
    "nbgrader": {
     "grade": false,
     "grade_id": "cell-3b5c45c98c441179",
     "locked": true,
     "schema_version": 3,
     "solution": false,
     "task": false
    }
   },
   "source": [
    "# The flower girl problem <a class=\"tocSkip\">"
   ]
  },
  {
   "cell_type": "markdown",
   "metadata": {
    "nbgrader": {
     "grade": false,
     "grade_id": "cell-4fb61d449cc1a0b4",
     "locked": true,
     "schema_version": 3,
     "solution": false,
     "task": false
    }
   },
   "source": [
    "Assume that every morning you can buy some flower at cost $c$, during the day you can sell them at price $p$. At the end of the day you can keep the flowers for the next day.\n",
    "During each day the demand is an integer uniformly taken between $1$ and $D$.\n",
    "\n",
    "At the start of your first day you have no flower in stock. At the end of the $T^{th}$ day all stock is lost. You want to minimize your expected loss summed over the $T$ days. We will denote $u_t$ the number of flower bought at the beginning of day $t$. We assume that $u_t\\in [0,U]$ (in particular we assume that it is continuous).\n",
    "\n",
    "The parameters are set as follow."
   ]
  },
  {
   "cell_type": "code",
   "execution_count": null,
   "metadata": {},
   "outputs": [],
   "source": [
    "# If not installed yet\n",
    "# import Pkg\n",
    "# Pkg.add(\"JuMP\")\n",
    "# Pkg.add(\"GLPK\")"
   ]
  },
  {
   "cell_type": "code",
   "execution_count": null,
   "metadata": {
    "nbgrader": {
     "grade": false,
     "grade_id": "cell-8b44c3425eb6a2ff",
     "locked": true,
     "schema_version": 3,
     "solution": false,
     "task": false
    }
   },
   "outputs": [
    {
     "data": {
      "text/plain": [
       "7"
      ]
     },
     "metadata": {},
     "output_type": "display_data"
    }
   ],
   "source": [
    "using JuMP, GLPK, Statistics\n",
    "\n",
    "OPTIMIZER = GLPK.Optimizer\n",
    "\n",
    "# problem parameters\n",
    "c = 1  # cost of buying\n",
    "p = 2  # cost of selling\n",
    "D = 10 # demand is uniform over 1:D\n",
    "U = 7  # maximum buy per day"
   ]
  },
  {
   "cell_type": "markdown",
   "metadata": {
    "heading_collapsed": true,
    "nbgrader": {
     "grade": false,
     "grade_id": "cell-5426b49c2e22cc04",
     "locked": true,
     "schema_version": 3,
     "solution": false,
     "task": false
    }
   },
   "source": [
    "## Question 1 : The $T=1$ case"
   ]
  },
  {
   "cell_type": "markdown",
   "metadata": {
    "hidden": true,
    "nbgrader": {
     "grade": false,
     "grade_id": "cell-a04ec1f157fa9592",
     "locked": true,
     "schema_version": 3,
     "solution": false,
     "task": false
    }
   },
   "source": [
    "### Question 1.1 : Recognizing a known problem\n",
    "\n",
    "If $T=1$, recognize the flower girl problem as a known optimization problem ? "
   ]
  },
  {
   "cell_type": "markdown",
   "metadata": {
    "hidden": true,
    "nbgrader": {
     "grade": true,
     "grade_id": "cell-19601ccf7e279aca",
     "locked": false,
     "points": 1,
     "schema_version": 3,
     "solution": true,
     "task": false
    }
   },
   "source": [
    "#= To be completed =#"
   ]
  },
  {
   "cell_type": "markdown",
   "metadata": {
    "hidden": true,
    "nbgrader": {
     "grade": false,
     "grade_id": "cell-a48b40722a3f045f",
     "locked": true,
     "schema_version": 3,
     "solution": false,
     "task": false
    }
   },
   "source": [
    "### Question 1.2 : Solving the problem\n",
    "\n",
    "Write the extensive formulation of the problem as an LP and solve it using `JuMP` and a linear solver."
   ]
  },
  {
   "cell_type": "code",
   "execution_count": null,
   "metadata": {
    "hidden": true,
    "nbgrader": {
     "grade": true,
     "grade_id": "cell-62ad9151fc259322",
     "locked": false,
     "points": 0,
     "schema_version": 3,
     "solution": true,
     "task": false
    }
   },
   "outputs": [
    {
     "data": {
      "text/plain": [
       "-3.000000000000001"
      ]
     },
     "metadata": {},
     "output_type": "display_data"
    }
   ],
   "source": [
    "m = Model(OPTIMIZER)\n",
    "\n",
    "T = 1\n",
    "\n",
    "d = zeros(T,D)\n",
    "for s = 1:D\n",
    "    d[:,s] .= s # d[1,s] is the demand at time 1 for scenario s\n",
    "end\n",
    "\n",
    "#= To be completed =#\n",
    "\n",
    "optimize!(m)\n",
    "objective_value(m)"
   ]
  },
  {
   "cell_type": "markdown",
   "metadata": {
    "heading_collapsed": true,
    "nbgrader": {
     "grade": false,
     "grade_id": "cell-269ff1e5e3b6ff16",
     "locked": true,
     "schema_version": 3,
     "solution": false,
     "task": false
    }
   },
   "source": [
    "## Question 2 The $T=2$ case\n",
    "\n",
    "We consider now that $T=2$."
   ]
  },
  {
   "cell_type": "markdown",
   "metadata": {
    "hidden": true,
    "nbgrader": {
     "grade": false,
     "grade_id": "cell-086f3b45de181463",
     "locked": true,
     "schema_version": 3,
     "solution": false,
     "task": false
    }
   },
   "source": [
    "### Question 2.1 \n",
    "From Question 1 deduce an upper bound to this problem."
   ]
  },
  {
   "cell_type": "markdown",
   "metadata": {
    "hidden": true,
    "nbgrader": {
     "grade": true,
     "grade_id": "cell-d76e3a7800a1389e",
     "locked": false,
     "points": 1,
     "schema_version": 3,
     "solution": true,
     "task": false
    }
   },
   "source": [
    "#= To be completed =#"
   ]
  },
  {
   "cell_type": "markdown",
   "metadata": {
    "hidden": true,
    "nbgrader": {
     "grade": false,
     "grade_id": "cell-2b61c60eca9234a4",
     "locked": true,
     "schema_version": 3,
     "solution": false,
     "task": false
    }
   },
   "source": [
    "### Question 2.2 : upper bound\n",
    "Solve the flower-girl problem with a stochastic programming approach, by solving the associated extensive formulation."
   ]
  },
  {
   "cell_type": "code",
   "execution_count": null,
   "metadata": {
    "hidden": true,
    "nbgrader": {
     "grade": true,
     "grade_id": "cell-49b019f77f1fa48",
     "locked": false,
     "points": 0,
     "schema_version": 3,
     "solution": true,
     "task": false
    }
   },
   "outputs": [
    {
     "data": {
      "text/plain": [
       "-7.8999999999999915"
      ]
     },
     "metadata": {},
     "output_type": "display_data"
    }
   ],
   "source": [
    "\n",
    "\n",
    "T = 2\n",
    "\n",
    "d = zeros(T,D) #d(t,s) is the demand for realisation s at time t\n",
    "for s in 1:D\n",
    "    d[:,s] .= s \n",
    "end\n",
    "\n",
    "\n",
    "m = Model(OPTIMIZER)\n",
    "\n",
    "#= To be completed =#\n",
    "\n",
    "optimize!(m)\n",
    "objective_value(m)\n",
    "\n"
   ]
  },
  {
   "cell_type": "markdown",
   "metadata": {
    "nbgrader": {
     "grade": false,
     "grade_id": "cell-f6586972911f53d",
     "locked": true,
     "schema_version": 3,
     "solution": false,
     "task": false
    }
   },
   "source": [
    "### Question 2.3 : Splitted variables formulation\n",
    "\n",
    "We give the flower-girl problem for $2$ time step with splitted variables.\n",
    "Check that you obtain the same value as before.  "
   ]
  },
  {
   "cell_type": "code",
   "execution_count": null,
   "metadata": {
    "nbgrader": {
     "grade": false,
     "grade_id": "cell-5cd9af47e32a0d",
     "locked": true,
     "schema_version": 3,
     "solution": false,
     "task": false
    }
   },
   "outputs": [
    {
     "name": "stdout",
     "output_type": "stream",
     "text": [
      "objective_value(m) = -7.899999999999949\n"
     ]
    },
    {
     "data": {
      "text/plain": [
       "-7.899999999999949"
      ]
     },
     "metadata": {},
     "output_type": "display_data"
    }
   ],
   "source": [
    "T = 2\n",
    "\n",
    "d = zeros(T,D,D) # d(t,s,ss) is the demand for scenario (s,ss) at time t\n",
    "for s = 1:D, ss = 1:D\n",
    "    d[1,s,ss] = s\n",
    "    d[2,s,ss] = ss\n",
    "end\n",
    "\n",
    "\n",
    "m = Model(OPTIMIZER)\n",
    "\n",
    "@variables(m,begin\n",
    "    0<= u[1:T,1:D,1:D] <= U  # bought flowers at beginning of day t\n",
    "    v[1:T,1:D,1:D] >= 0      # sold flowers during day t\n",
    "    end)     \n",
    "\n",
    "@objective(m, Min, 1/D^2*sum(c*u[t,s,ss]-p*v[t,s,ss] for t = 1:T, s = 1:D, ss = 1:D))\n",
    "\n",
    "for t = 1:T, s = 1:D, ss = 1:D\n",
    "    @constraint(m, v[t,s,ss] <= d[t,s,ss])                     # we sell no more than demand\n",
    "    @constraint(m, sum(v[tt,s,ss]-u[tt,s,ss] for tt=1:t) <= 0) # we sell no more than stock\n",
    "end\n",
    "\n",
    "    ### u1 is deterministic - i.e. the same for all scenarios\n",
    "for s = 1:D, ss = 1:D\n",
    "    @constraint(m,u[1,s,ss] == 1/D^2 *sum( u[1,t,tt] for t=1:D, tt=1:D))\n",
    "end\n",
    "    ### u2 and v1 are d1 measurable - i.e. does not differentiate on ss\n",
    "for s = 1:D, ss = 1:D\n",
    "    @constraint(m,u[2,s,ss] == 1/D *sum( u[2,s,tt] for tt=1:D))\n",
    "    @constraint(m,v[1,s,ss] == 1/D *sum( v[1,s,tt] for tt=1:D))\n",
    "end\n",
    "       \n",
    "optimize!(m)\n",
    "@show(objective_value(m))\n",
    "#round.(value.(u[1,:,:]),digits=2)\n",
    "                       "
   ]
  },
  {
   "cell_type": "markdown",
   "metadata": {
    "heading_collapsed": true,
    "nbgrader": {
     "grade": false,
     "grade_id": "cell-46567b87fe7293",
     "locked": true,
     "schema_version": 3,
     "solution": false,
     "task": false
    }
   },
   "source": [
    "### Question 2.4 : anticipative bound\n",
    "\n",
    "By suppressing constraints in the splitted version, find the lower-bound given by the anticipative approach.\n"
   ]
  },
  {
   "cell_type": "code",
   "execution_count": null,
   "metadata": {
    "hidden": true,
    "nbgrader": {
     "grade": true,
     "grade_id": "cell-58334dbf230fe6",
     "locked": false,
     "points": 0,
     "schema_version": 3,
     "solution": true,
     "task": false
    }
   },
   "outputs": [
    {
     "name": "stdout",
     "output_type": "stream",
     "text": [
      "objective_value(m) = -10.11999999999997\n"
     ]
    },
    {
     "data": {
      "text/plain": [
       "10×10 Matrix{Float64}:\n",
       " 1.0  1.0  1.0  1.0  1.0  1.0  1.0  2.0  3.0  4.0\n",
       " 2.0  2.0  2.0  2.0  2.0  2.0  2.0  3.0  4.0  5.0\n",
       " 3.0  3.0  3.0  3.0  3.0  3.0  3.0  4.0  5.0  6.0\n",
       " 4.0  4.0  4.0  4.0  4.0  4.0  4.0  5.0  6.0  7.0\n",
       " 5.0  5.0  5.0  5.0  5.0  5.0  5.0  6.0  7.0  7.0\n",
       " 6.0  6.0  6.0  6.0  6.0  6.0  6.0  7.0  7.0  7.0\n",
       " 7.0  7.0  7.0  7.0  7.0  7.0  7.0  7.0  7.0  7.0\n",
       " 7.0  7.0  7.0  7.0  7.0  7.0  7.0  7.0  7.0  7.0\n",
       " 7.0  7.0  7.0  7.0  7.0  7.0  7.0  7.0  7.0  7.0\n",
       " 7.0  7.0  7.0  7.0  7.0  7.0  7.0  7.0  7.0  7.0"
      ]
     },
     "metadata": {},
     "output_type": "display_data"
    }
   ],
   "source": [
    "T = 2\n",
    "\n",
    "d = zeros(T,D,D) # d(t,s,ss) is the demand for scenario (s,ss)\n",
    "for s = 1:D, ss = 1:D\n",
    "    d[1,s,ss] = s\n",
    "    d[2,s,ss] = ss\n",
    "end\n",
    "\n",
    "\n",
    "m = Model(OPTIMIZER)\n",
    "\n",
    "@variables(m,begin\n",
    "    0<= u[1:T,1:D,1:D] <= U  # bought flowers at beginning of day t\n",
    "    v[1:T,1:D,1:D] >= 0      # sold flowers during day t\n",
    "    end)     \n",
    "\n",
    "@objective(m, Min, 1/D^2*sum(c*u[t,s,ss]-p*v[t,s,ss] for t = 1:T, s = 1:D, ss = 1:D))\n",
    "\n",
    "#= To be completed =#\n",
    "       \n",
    "optimize!(m)\n",
    "@show(objective_value(m))\n",
    "round.(value.(u[1,:,:]),digits=2)"
   ]
  },
  {
   "cell_type": "markdown",
   "metadata": {
    "nbgrader": {
     "grade": false,
     "grade_id": "cell-c1ab6ac9bbc6270",
     "locked": true,
     "schema_version": 3,
     "solution": false,
     "task": false
    }
   },
   "source": [
    "### Question 2.5 : two-stage bound\n",
    "\n",
    "By suppressing constraints in the splitted version, find the lower-bound given by the 2 stage-approach."
   ]
  },
  {
   "cell_type": "code",
   "execution_count": null,
   "metadata": {
    "nbgrader": {
     "grade": true,
     "grade_id": "cell-9610973aae",
     "locked": false,
     "points": 2,
     "schema_version": 3,
     "solution": true,
     "task": false
    }
   },
   "outputs": [
    {
     "name": "stdout",
     "output_type": "stream",
     "text": [
      "objective_value(m) = -9.769999999999959\n"
     ]
    },
    {
     "data": {
      "text/plain": [
       "10×10 Matrix{Float64}:\n",
       " 7.0  7.0  7.0  7.0  7.0  7.0  7.0  7.0  7.0  7.0\n",
       " 7.0  7.0  7.0  7.0  7.0  7.0  7.0  7.0  7.0  7.0\n",
       " 7.0  7.0  7.0  7.0  7.0  7.0  7.0  7.0  7.0  7.0\n",
       " 7.0  7.0  7.0  7.0  7.0  7.0  7.0  7.0  7.0  7.0\n",
       " 7.0  7.0  7.0  7.0  7.0  7.0  7.0  7.0  7.0  7.0\n",
       " 7.0  7.0  7.0  7.0  7.0  7.0  7.0  7.0  7.0  7.0\n",
       " 7.0  7.0  7.0  7.0  7.0  7.0  7.0  7.0  7.0  7.0\n",
       " 7.0  7.0  7.0  7.0  7.0  7.0  7.0  7.0  7.0  7.0\n",
       " 7.0  7.0  7.0  7.0  7.0  7.0  7.0  7.0  7.0  7.0\n",
       " 7.0  7.0  7.0  7.0  7.0  7.0  7.0  7.0  7.0  7.0"
      ]
     },
     "metadata": {},
     "output_type": "display_data"
    }
   ],
   "source": [
    "T = 2\n",
    "\n",
    "d = zeros(T,D,D) # d(t,s,ss) is the demand for scenario (s,ss)\n",
    "for s = 1:D, ss = 1:D\n",
    "    d[1,s,ss] = s\n",
    "    d[2,s,ss] = ss\n",
    "end\n",
    "\n",
    "\n",
    "m = Model(OPTIMIZER)\n",
    "\n",
    "@variables(m,begin\n",
    "    0<= u[1:T,1:D,1:D] <= U  # bought flowers at beginning of day t\n",
    "    v[1:T,1:D,1:D] >= 0      # sold flowers during day t\n",
    "    end)     \n",
    "\n",
    "@objective(m, Min, 1/D^2*sum(c*u[t,s,ss]-p*v[t,s,ss] for t = 1:T, s = 1:D, ss = 1:D))\n",
    "\n",
    "#= To be completed =#\n",
    "\n",
    "optimize!(m)\n",
    "@show(objective_value(m))\n",
    "round.(value.(u[1,:,:]),digits=2)"
   ]
  },
  {
   "cell_type": "markdown",
   "metadata": {
    "nbgrader": {
     "grade": false,
     "grade_id": "cell-495d655eb6ce3a86",
     "locked": true,
     "schema_version": 3,
     "solution": false,
     "task": false
    }
   },
   "source": [
    "## Question 3 : Heuristics and bounds in long horizon\n",
    "\n",
    "We assume now that we work on a week, that is $T=10$. \n",
    "\n",
    "### Question 3.1  \n",
    "how many variables have the extended formulation ? "
   ]
  },
  {
   "cell_type": "markdown",
   "metadata": {
    "nbgrader": {
     "grade": true,
     "grade_id": "cell-0a658c4c5bba62a1",
     "locked": false,
     "points": 1,
     "schema_version": 3,
     "solution": true,
     "task": false
    }
   },
   "source": [
    "#= To be completed =#"
   ]
  },
  {
   "cell_type": "markdown",
   "metadata": {
    "nbgrader": {
     "grade": false,
     "grade_id": "cell-0a4a7340321e708c",
     "locked": true,
     "schema_version": 3,
     "solution": false,
     "task": false
    }
   },
   "source": [
    "### Question 3.2 : anticipative bound\n",
    "\n",
    "Estimate (by Monte Carlo) the lower-bound given by the anticipative approach."
   ]
  },
  {
   "cell_type": "code",
   "execution_count": null,
   "metadata": {
    "nbgrader": {
     "grade": false,
     "grade_id": "cell-89d98ae49e29ddcc",
     "locked": true,
     "schema_version": 3,
     "solution": false,
     "task": false
    }
   },
   "outputs": [],
   "source": [
    "T = 10\n",
    "Nmc = 10^3\n",
    "\n",
    "## We define an helper function that print a Monte Carlo estimate from a vector of results\n",
    "function mc(res, print_opt=true)\n",
    "    Nmc = length(res)\n",
    "    print_opt && print(round(mean(res);digits=2),\" +/- \",round(1.96*std(res)/sqrt(Nmc);digits=2)) \n",
    "    return round(mean(res);digits=2)\n",
    "end\n",
    "\n",
    "### scenarios of Monte-Carlo test for fair comparison\n",
    "using Random\n",
    "Random.seed!(0)\n",
    "scenarios_mc = rand(1:D,(Nmc,T)); # generate Nmc scenarios of demand"
   ]
  },
  {
   "cell_type": "code",
   "execution_count": null,
   "metadata": {
    "nbgrader": {
     "grade": true,
     "grade_id": "cell-4257c0aad137f6d8",
     "locked": false,
     "points": 1,
     "schema_version": 3,
     "solution": true,
     "task": false
    }
   },
   "outputs": [
    {
     "name": "stdout",
     "output_type": "stream",
     "text": [
      "-53.2 +/- 0.51"
     ]
    },
    {
     "data": {
      "text/plain": [
       "-53.2"
      ]
     },
     "metadata": {},
     "output_type": "display_data"
    }
   ],
   "source": [
    "function anticipative(scenarios)\n",
    "    #compute the anticipative bound obtained from scenarios in d\n",
    "    res = zeros(Nmc,1) # store the value of each scenario\n",
    "\n",
    "    #= To be completed =#\n",
    "    \n",
    "    return mc(res)\n",
    "end\n",
    "\n",
    "anticipative(scenarios_mc)"
   ]
  },
  {
   "cell_type": "markdown",
   "metadata": {
    "nbgrader": {
     "grade": false,
     "grade_id": "cell-7a4ea76dc5e3bbe4",
     "locked": true,
     "schema_version": 3,
     "solution": false,
     "task": false
    }
   },
   "source": [
    "### Question 3.3 Writing a simulator\n",
    "\n",
    "Write a simulator that evaluate a policy over a given set of scenarios.\n",
    "\n",
    "A policy is a function taking as argument $(t,x)$, $t$ being the day, $x$ the amount of newspaper in stock at the beginning of day $t$ and return $u$ the quantity of newspaper bought in the morning of day $t$. The quantity of newspaper sold during day $t$ will be computed as $\\min(x+u,d)$. \n",
    "\n"
   ]
  },
  {
   "cell_type": "code",
   "execution_count": null,
   "metadata": {
    "nbgrader": {
     "grade": true,
     "grade_id": "cell-07bed3ae31d0ed0d",
     "locked": false,
     "points": 0,
     "schema_version": 3,
     "solution": true,
     "task": false
    }
   },
   "outputs": [
    {
     "data": {
      "text/plain": [
       "simulator (generic function with 1 method)"
      ]
     },
     "metadata": {},
     "output_type": "display_data"
    }
   ],
   "source": [
    "function simulator(scenarios,policy)\n",
    "    costs = zeros(Nmc) # vector of total cost for each of the Nmc scenarios    \n",
    "    #= To be completed =#\n",
    "    \n",
    "    return mc(costs,false) # return the mean and print the estimation of costs\n",
    "end\n",
    "\n",
    "#simulator(scenarios_mc,control_2S)"
   ]
  },
  {
   "cell_type": "markdown",
   "metadata": {},
   "source": [
    "### Question 3.4\n",
    "\n",
    "Evaluate the heuristic consisting in buying the same amount $u$ of flower everyday, for $u = 0..m$, and give an upper bound to the problem."
   ]
  },
  {
   "cell_type": "code",
   "execution_count": null,
   "metadata": {
    "nbgrader": {
     "grade": true,
     "grade_id": "cell-a3b61f73f1555195",
     "locked": false,
     "points": 1,
     "schema_version": 3,
     "solution": true,
     "task": false
    }
   },
   "outputs": [
    {
     "name": "stdout",
     "output_type": "stream",
     "text": [
      "cost = [0.0, -10.0, -19.75, -29.03, -37.19, -42.13, -41.75, -36.4]\n",
      "argmin(cost) = 6\n"
     ]
    },
    {
     "data": {
      "text/plain": [
       "6"
      ]
     },
     "metadata": {},
     "output_type": "display_data"
    }
   ],
   "source": [
    "#= To be completed =#"
   ]
  },
  {
   "cell_type": "markdown",
   "metadata": {
    "nbgrader": {
     "grade": false,
     "grade_id": "cell-eaeba837ba11dc14",
     "locked": true,
     "schema_version": 3,
     "solution": false,
     "task": false
    }
   },
   "source": [
    "### Question 3.5\n",
    "\n",
    "Evaluate (by Monte Carlo) a model predictive approach of the problem using the expectation of demand as prediction. Compare it with using the best constant $u$."
   ]
  },
  {
   "cell_type": "code",
   "execution_count": null,
   "metadata": {
    "nbgrader": {
     "grade": true,
     "grade_id": "cell-d5bf41af0698c384",
     "locked": false,
     "points": 0,
     "schema_version": 3,
     "solution": true,
     "task": false
    }
   },
   "outputs": [
    {
     "data": {
      "text/plain": [
       "MPC_control (generic function with 1 method)"
      ]
     },
     "metadata": {},
     "output_type": "display_data"
    }
   ],
   "source": [
    "## Define an MPC policy using the mean\n",
    "function MPC_control(t,stock)\n",
    "    # return the value of the MPC control at time t starting from stock\n",
    "    \n",
    "    #= To be completed =#\n",
    "end"
   ]
  },
  {
   "cell_type": "code",
   "execution_count": null,
   "metadata": {
    "nbgrader": {
     "grade": false,
     "grade_id": "cell-98b34c5a5ae583dd",
     "locked": true,
     "schema_version": 3,
     "solution": false,
     "task": false
    }
   },
   "outputs": [
    {
     "ename": "InexactError",
     "evalue": "InexactError: Int64(5.5)",
     "output_type": "error",
     "traceback": [
      "InexactError: Int64(5.5)\n",
      "\n",
      "Stacktrace:\n",
      " [1] Int64(x::Float64)\n",
      "   @ Base ./float.jl:900\n",
      " [2] simulator(scenarios::Matrix{Int64}, policy::typeof(MPC_control))\n",
      "   @ Main ~/Documents/Enseignement/TPsol/TP-Saclay/source/Flower-Girl/flower-girl.ipynb:7\n",
      " [3] top-level scope\n",
      "   @ ~/Documents/Enseignement/TPsol/TP-Saclay/source/Flower-Girl/flower-girl.ipynb:1"
     ]
    }
   ],
   "source": [
    "simulator(scenarios_mc,MPC_control)"
   ]
  },
  {
   "cell_type": "markdown",
   "metadata": {
    "nbgrader": {
     "grade": false,
     "grade_id": "cell-227cbcddf027968a",
     "locked": true,
     "schema_version": 3,
     "solution": false,
     "task": false
    }
   },
   "source": [
    "### Question 3.6 \n",
    "\n",
    "Give an estimated lower bound obtained from a two-stage approximation. "
   ]
  },
  {
   "cell_type": "code",
   "execution_count": null,
   "metadata": {
    "nbgrader": {
     "grade": true,
     "grade_id": "cell-c4452ab66e0de663",
     "locked": false,
     "points": 2,
     "schema_version": 3,
     "solution": true,
     "task": false
    }
   },
   "outputs": [
    {
     "name": "stdout",
     "output_type": "stream",
     "text": [
      "-53.71 +/- 0.15"
     ]
    },
    {
     "data": {
      "text/plain": [
       "-53.71"
      ]
     },
     "metadata": {},
     "output_type": "display_data"
    }
   ],
   "source": [
    "#= To be completed =#"
   ]
  },
  {
   "cell_type": "markdown",
   "metadata": {
    "nbgrader": {
     "grade": false,
     "grade_id": "cell-e3a74fa7de9759e6",
     "locked": true,
     "schema_version": 3,
     "solution": false,
     "task": false
    }
   },
   "source": [
    "### Question 3.7 (Optional) \n",
    "\n",
    "Evaluate the repeated two-stage approach (start with a small amount of scenarios)."
   ]
  },
  {
   "cell_type": "code",
   "execution_count": null,
   "metadata": {
    "nbgrader": {
     "grade": true,
     "grade_id": "cell-d205f20d1559382a",
     "locked": false,
     "points": 2,
     "schema_version": 3,
     "solution": true,
     "task": false
    }
   },
   "outputs": [
    {
     "data": {
      "text/plain": [
       "-50.01"
      ]
     },
     "metadata": {},
     "output_type": "display_data"
    }
   ],
   "source": [
    "#= To be completed =#"
   ]
  },
  {
   "cell_type": "markdown",
   "metadata": {
    "nbgrader": {
     "grade": false,
     "grade_id": "cell-4e67552157665362",
     "locked": true,
     "schema_version": 3,
     "solution": false,
     "task": false
    }
   },
   "source": [
    "## Question 4 Dynamic Programming\n",
    "\n",
    "\n",
    "### Question 4.1 : integrity of stock\n",
    "Show that the optimal stock at the end of day is integer and no more than $D$."
   ]
  },
  {
   "cell_type": "markdown",
   "metadata": {
    "nbgrader": {
     "grade": true,
     "grade_id": "cell-04d202f092582f3b",
     "locked": false,
     "points": 1,
     "schema_version": 3,
     "solution": true,
     "task": false
    }
   },
   "source": [
    "#= To be completed =#"
   ]
  },
  {
   "cell_type": "markdown",
   "metadata": {
    "nbgrader": {
     "grade": false,
     "grade_id": "cell-c154ad3c6c93d701",
     "locked": true,
     "schema_version": 3,
     "solution": false,
     "task": false
    }
   },
   "source": [
    "### Question 4.2 \n",
    "How many operations are required to solve the problem by Dynamic Programming ? How many scenarios for an extended formulation ?"
   ]
  },
  {
   "cell_type": "markdown",
   "metadata": {
    "nbgrader": {
     "grade": true,
     "grade_id": "cell-574bee47c3dd9bfc",
     "locked": false,
     "points": 1,
     "schema_version": 3,
     "solution": true,
     "task": false
    }
   },
   "source": [
    "#= To be completed =#"
   ]
  },
  {
   "cell_type": "markdown",
   "metadata": {
    "nbgrader": {
     "grade": false,
     "grade_id": "cell-43b086759d6ccdcc",
     "locked": true,
     "schema_version": 3,
     "solution": false,
     "task": false
    }
   },
   "source": [
    "### Question 4.3\n",
    "Find the optimal value of the flower-girl problem by Dynamic Programming. Describe the optimal strategy."
   ]
  },
  {
   "cell_type": "code",
   "execution_count": null,
   "metadata": {
    "nbgrader": {
     "grade": true,
     "grade_id": "cell-fd78fc4534229a16",
     "locked": false,
     "points": 3,
     "schema_version": 3,
     "solution": true,
     "task": false
    }
   },
   "outputs": [
    {
     "name": "stdout",
     "output_type": "stream",
     "text": [
      "## Optimal policy PI(t,X)##\n",
      "X  :  0,   1,   2,   3,   4,   5,   6,   7,   8,   9,   10\n",
      "u_1(X) : "
     ]
    },
    {
     "name": "stdout",
     "output_type": "stream",
     "text": [
      "[7.0, 7.0, 7.0, 7.0, 7.0, 6.0, 5.0, 4.0, 3.0, 2.0, 1.0]\n",
      "u_2(X) : [7.0, 7.0, 7.0, 7.0, 7.0, 6.0, 5.0, 4.0, 3.0, 2.0, 1.0]\n",
      "u_3(X) : [7.0, 7.0, 7.0, 7.0, 7.0, 6.0, 5.0, 4.0, 3.0, 2.0, 1.0]\n",
      "u_4(X) : [7.0, 7.0, 7.0, 7.0, 7.0, 6.0, 5.0, 4.0, 3.0, 2.0, 1.0]\n",
      "u_5(X) : [7.0, 7.0, 7.0, 7.0, 7.0, 6.0, 5.0, 4.0, 3.0, 2.0, 1.0]\n",
      "u_6(X) : [7.0, 7.0, 7.0, 7.0, 7.0, 6.0, 5.0, 4.0, 3.0, 2.0, 1.0]\n",
      "u_7(X) : [7.0, 7.0, 7.0, 7.0, 7.0, 6.0, 5.0, 4.0, 3.0, 2.0, 1.0]\n",
      "u_8(X) : [7.0, 7.0, 7.0, 7.0, 7.0, 6.0, 5.0, 4.0, 3.0, 2.0, 1.0]\n",
      "u_9(X) : [7.0, 7.0, 7.0, 6.0, 5.0, 4.0, 3.0, 2.0, 1.0, 0.0, 0.0]\n",
      "u_10(X) : [6.0, 5.0, 3.0, 3.0, 1.0, 0.0, 0.0, 0.0, 0.0, 0.0, 0.0]\n",
      "Expected value : -50.66\n"
     ]
    }
   ],
   "source": [
    "#= To be completed =#"
   ]
  },
  {
   "cell_type": "markdown",
   "metadata": {},
   "source": [
    "### Question 4.4\n",
    "\n",
    "Using function 'simulator' from Q3.3 check that the strategy computed in Q4.3 yield the optimal value also computed in Q4.3."
   ]
  },
  {
   "cell_type": "code",
   "execution_count": null,
   "metadata": {
    "nbgrader": {
     "grade": true,
     "grade_id": "cell-55cea6b44e6f70af",
     "locked": false,
     "points": 1,
     "schema_version": 3,
     "solution": true,
     "task": false
    }
   },
   "outputs": [
    {
     "data": {
      "text/plain": [
       "-50.21"
      ]
     },
     "metadata": {},
     "output_type": "display_data"
    }
   ],
   "source": [
    "#= To be completed =#"
   ]
  },
  {
   "cell_type": "markdown",
   "metadata": {
    "nbgrader": {
     "grade": false,
     "grade_id": "cell-98a270364b55a462",
     "locked": true,
     "schema_version": 3,
     "solution": false,
     "task": false
    }
   },
   "source": [
    "Tested JuMP 0.20 / Julia 1.2"
   ]
  }
 ],
 "metadata": {
  "@webio": {
   "lastCommId": null,
   "lastKernelId": null
  },
  "celltoolbar": "Create Assignment",
  "kernelspec": {
   "display_name": "Julia 1.9.3",
   "language": "julia",
   "name": "julia-1.9"
  },
  "language_info": {
   "file_extension": ".jl",
   "mimetype": "application/julia",
   "name": "julia",
   "version": "1.9.3"
  },
  "toc": {
   "base_numbering": 1,
   "nav_menu": {},
   "number_sections": true,
   "sideBar": true,
   "skip_h1_title": false,
   "title_cell": "Table of Contents",
   "title_sidebar": "Contents",
   "toc_cell": true,
   "toc_position": {},
   "toc_section_display": true,
   "toc_window_display": false
  }
 },
 "nbformat": 4,
 "nbformat_minor": 1
}
